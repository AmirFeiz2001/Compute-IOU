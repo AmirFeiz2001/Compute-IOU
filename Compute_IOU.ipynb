{
  "nbformat": 4,
  "nbformat_minor": 0,
  "metadata": {
    "colab": {
      "name": "Compute_IOU.ipynb",
      "provenance": [],
      "collapsed_sections": []
    },
    "kernelspec": {
      "name": "python3",
      "display_name": "Python 3"
    },
    "language_info": {
      "name": "python"
    }
  },
  "cells": [
    {
      "cell_type": "code",
      "metadata": {
        "id": "32EYLJZpxOkE"
      },
      "source": [
        "import numpy as np\n",
        "import cv2\n",
        "import matplotlib.pyplot as plt"
      ],
      "execution_count": null,
      "outputs": []
    },
    {
      "cell_type": "code",
      "metadata": {
        "id": "LWj0OPiVxGTu"
      },
      "source": [
        "def compute_iou(y_test, y_pred):\n",
        "  intersection = np.logical_and(y_test, y_pred)\n",
        "  union = np.logical_or(y_test, y_pred)\n",
        "  iou_score = np.sum(intersection)/np.sum(union)\n",
        "  print('IOU score is: {}'.format(iou_score))"
      ],
      "execution_count": null,
      "outputs": []
    },
    {
      "cell_type": "code",
      "metadata": {
        "colab": {
          "base_uri": "https://localhost:8080/"
        },
        "id": "cmbRIBbHxJO1",
        "outputId": "c3caea9b-33a3-46e2-a352-745374533ca7"
      },
      "source": [
        "img1 = cv2.imread('2 (1).png')\n",
        "img2 = cv2.imread('4 (1).png')\n",
        "\n",
        "compute_iou(img1, img2)"
      ],
      "execution_count": null,
      "outputs": [
        {
          "output_type": "stream",
          "text": [
            "IOU score is: 0.7750958251320833\n"
          ],
          "name": "stdout"
        }
      ]
    },
    {
      "cell_type": "code",
      "metadata": {
        "id": "oFWBMfqjxJep"
      },
      "source": [
        ""
      ],
      "execution_count": null,
      "outputs": []
    }
  ]
}